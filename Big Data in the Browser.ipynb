{
 "cells": [
  {
   "cell_type": "markdown",
   "metadata": {
    "slideshow": {
     "slide_type": "slide"
    }
   },
   "source": [
    "# Big Data in the Browser\n",
    "----\n",
    "\n",
    "_Andrew Snare_<br>\n",
    "[@asnare](https://twitter.com/asnare)\n",
    "\n",
    "<img src=\"gdd-logo.png\" alt=\"GoDataDriven\" width=\"30%\" align=\"left\" />"
   ]
  },
  {
   "cell_type": "markdown",
   "metadata": {
    "slideshow": {
     "slide_type": "slide"
    }
   },
   "source": [
    "# Agenda\n",
    "\n",
    " - What is [Juypter][jupyter]?\n",
    " - What can it do?\n",
    " - Some real-world crunching…\n",
    " \n",
    "[jupyter]: http://jupyter.org/"
   ]
  },
  {
   "cell_type": "markdown",
   "metadata": {
    "slideshow": {
     "slide_type": "slide"
    }
   },
   "source": [
    "# Crunching Big Data\n",
    "\n",
    " - Often we use a [REPL][repl]:\n",
    "    - spark-shell\n",
    "    - pyspark\n",
    "    - ipython\n",
    "\n",
    " - Sometimes we'll write applications\n",
    "    - Map-Reduce\n",
    "    - Spark\n",
    "    \n",
    "[repl]: https://en.wikipedia.org/wiki/Read–eval–print_loop"
   ]
  },
  {
   "cell_type": "markdown",
   "metadata": {
    "slideshow": {
     "slide_type": "slide"
    }
   },
   "source": [
    "# What is Jupyter?\n",
    "\n",
    " - [Jupyter][jupyter] is a browser-based interactive notebook.\n",
    " - Started life as the notebook component of [iPython][ipython], but now supports more than just python:\n",
    "    - Python, Julia, R.\n",
    "    - With some extra effort: [Scala][jupyter-scala]\n",
    " - Integrates with [Spark][spark].\n",
    "    - _Sweet_.\n",
    "    \n",
    "[jupyter]: http://jupyter.org/\n",
    "[ipython]: http://ipython.org/\n",
    "[jupyter-scala]: https://github.com/alexarchambault/jupyter-scala\n",
    "[spark]: http://spark.apache.org/"
   ]
  },
  {
   "cell_type": "markdown",
   "metadata": {
    "slideshow": {
     "slide_type": "fragment"
    }
   },
   "source": [
    "**You're looking at it.** _Although it's probably not clear yet._"
   ]
  },
  {
   "cell_type": "markdown",
   "metadata": {
    "slideshow": {
     "slide_type": "slide"
    }
   },
   "source": [
    "# What Can It Do?\n",
    "\n",
    " - A notebook consists of a series of cells.\n",
    " - Each cell can be code, or text.\n",
    " - If code, it can be evaluated and the result will be displayed in the cell."
   ]
  },
  {
   "cell_type": "markdown",
   "metadata": {
    "slideshow": {
     "slide_type": "fragment"
    }
   },
   "source": [
    " - Jupyter isn’t the only notebook system out there.\n",
    " - Alternatives for Spark include:\n",
    "    - **[spark-notebook][sparknb]**, itself based on **[scala-notebook][scalanb]**;\n",
    "    - **[Zeppelin][zeppelin]**, now incubating under the Apache banner.\n",
    "    \n",
    "[sparknb]: https://github.com/andypetrella/spark-notebook\n",
    "[scalanb]: https://github.com/Bridgewater/scala-notebook\n",
    "[zeppelin]: http://zeppelin-project.org"
   ]
  },
  {
   "cell_type": "markdown",
   "metadata": {
    "slideshow": {
     "slide_type": "slide"
    }
   },
   "source": [
    "# Is That All?\n",
    "\n",
    " - There are lots of niceties supported:\n",
    " - Text is written as **markdown**, letting you easily annotate and document what you’re doing.\n",
    " - Commands can return **graphics** and **HTML** for display in the cell.\n",
    " - The current state of the notebook can be saved (including code results) and **shared** with other people.\n",
    " - Code **highlighting** and **completion**."
   ]
  },
  {
   "cell_type": "markdown",
   "metadata": {
    "slideshow": {
     "slide_type": "subslide"
    }
   },
   "source": [
    "# Writing Text\n",
    "\n",
    "This presentation, so far, has been written entirely in markdown and rendered as a presentation via the [RISE][rise] Jupyter extension. In addition to basic Markdown, mathematics can be rendered which is useful when talking to a technical audience.\n",
    "\n",
    "For example, the formula for calculating the [Pearson Correlation][pearson] between two datasets can be expressed as:\n",
    "\n",
    "$$r = r_{xy} =\\frac{\\sum ^n _{i=1}(x_i - \\bar{x})(y_i - \\bar{y})}{\\sqrt{\\sum ^n _{i=1}(x_i - \\bar{x})^2} \\sqrt{\\sum ^n _{i=1}(y_i - \\bar{y})^2}}$$\n",
    "\n",
    "[rise]: https://github.com/damianavila/RISE\n",
    "[pearson]: https://en.wikipedia.org/wiki/Pearson_product-moment_correlation_coefficient"
   ]
  },
  {
   "cell_type": "markdown",
   "metadata": {
    "slideshow": {
     "slide_type": "subslide"
    }
   },
   "source": [
    "## Evaluating Code"
   ]
  },
  {
   "cell_type": "code",
   "execution_count": 1,
   "metadata": {
    "collapsed": false
   },
   "outputs": [
    {
     "data": {
      "text/plain": [
       "45"
      ]
     },
     "execution_count": 1,
     "metadata": {},
     "output_type": "execute_result"
    }
   ],
   "source": [
    "42 + 3"
   ]
  },
  {
   "cell_type": "markdown",
   "metadata": {
    "slideshow": {
     "slide_type": "subslide"
    }
   },
   "source": [
    "We can also render HTML:"
   ]
  },
  {
   "cell_type": "code",
   "execution_count": 2,
   "metadata": {
    "collapsed": false
   },
   "outputs": [
    {
     "data": {
      "text/html": [
       "<table>\n",
       "<tr><th>Header 1</<th><th>Header 2</th></tr>\n",
       "<tr><td>Row 1, Col 1</td><td>Row 1, Colr2</td></tr>\n",
       "<tr><td>Row 2, Col 1</td><td>Row 2, Colr2</td></tr>\n",
       "</table>"
      ],
      "text/plain": [
       "<IPython.core.display.HTML object>"
      ]
     },
     "execution_count": 2,
     "metadata": {},
     "output_type": "execute_result"
    }
   ],
   "source": [
    "from IPython.display import HTML\n",
    "HTML(\"\"\"<table>\n",
    "<tr><th>Header 1</<th><th>Header 2</th></tr>\n",
    "<tr><td>Row 1, Col 1</td><td>Row 1, Colr2</td></tr>\n",
    "<tr><td>Row 2, Col 1</td><td>Row 2, Colr2</td></tr>\n",
    "</table>\"\"\")"
   ]
  },
  {
   "cell_type": "markdown",
   "metadata": {
    "slideshow": {
     "slide_type": "subslide"
    }
   },
   "source": [
    "We can also display graphics:"
   ]
  },
  {
   "cell_type": "code",
   "execution_count": 3,
   "metadata": {
    "collapsed": false
   },
   "outputs": [
    {
     "data": {
      "image/svg+xml": [
       "<svg height=\"100%\" version=\"1.1\" viewBox=\"0 0 150 150\" width=\"100%\" xmlns=\"http://www.w3.org/2000/svg\" xmlns:xlink=\"http://www.w3.org/1999/xlink\">\n",
       "  <title>Abstract Target — Black &amp; White</title>\n",
       "  <defs>\n",
       "    <polygon fill=\"black\" id=\"Rect\" points=\"75,10 140,75 75,140 10,75\"/>\n",
       "  </defs>\n",
       "  <use xlink:href=\"#Rect\"/>\n",
       "  <g transform=\"rotate(45,75,75)\">\n",
       "    <use xlink:href=\"#Rect\"/>\n",
       "  </g>\n",
       "  <circle cx=\"75\" cy=\"75\" r=\"50.0\" stroke=\"white\" stroke-width=\"6.5\"/>\n",
       "  <circle cx=\"75\" cy=\"75\" r=\"37.0\" stroke=\"white\" stroke-width=\"6.5\"/>\n",
       "  <circle cx=\"75\" cy=\"75\" r=\"24.0\" stroke=\"white\" stroke-width=\"6.5\"/>\n",
       "  <circle cx=\"75\" cy=\"75\" r=\"11\" stroke=\"white\" stroke-width=\"6.5\"/>\n",
       "</svg>"
      ],
      "text/plain": [
       "<IPython.core.display.SVG object>"
      ]
     },
     "execution_count": 3,
     "metadata": {},
     "output_type": "execute_result"
    }
   ],
   "source": [
    "from IPython.display import SVG\n",
    "SVG(filename=\"target-bw.svg\")"
   ]
  },
  {
   "cell_type": "markdown",
   "metadata": {
    "slideshow": {
     "slide_type": "subslide"
    }
   },
   "source": [
    "Finally, we can also display videos:"
   ]
  },
  {
   "cell_type": "code",
   "execution_count": null,
   "metadata": {
    "collapsed": false
   },
   "outputs": [],
   "source": [
    "from IPython.display import YouTubeVideo\n",
    "YouTubeVideo('dQw4w9WgXcQ', start=6, autoplay=True)"
   ]
  },
  {
   "cell_type": "markdown",
   "metadata": {
    "slideshow": {
     "slide_type": "slide"
    }
   },
   "source": [
    "# Jupyter Quickstart\n",
    "\n",
    "    % pip install 'ipython[all]' \\\n",
    "                  'numpy' \\\n",
    "                  'pandas' \\\n",
    "                  'scipy' \\\n",
    "                  'seaborn'\n",
    "    \n",
    "    % export PYSPARK_DRIVER_PYTHON=ipython\n",
    "    % export PYSPARK_DRIVER_PYTHON_OPTS=notebook"
   ]
  },
  {
   "cell_type": "markdown",
   "metadata": {
    "slideshow": {
     "slide_type": "slide"
    }
   },
   "source": [
    "# Um, Where's the Big Data?\n",
    "\n",
    " - Because we can evaluate code, we can also evaluate Spark jobs.\n",
    " - Coming from iPython, there’s rich support for visualisations and statistics."
   ]
  },
  {
   "cell_type": "markdown",
   "metadata": {
    "slideshow": {
     "slide_type": "fragment"
    }
   },
   "source": [
    "## Looking into Stack Overflow\n",
    "\n",
    " - The Stack Exchange Network regularly publishes a dump of all their network content.\n",
    " - We can load this data into Hadoop.\n",
    " - From Jupyter, we can use Spark to explore it and perform various analysis."
   ]
  }
 ],
 "metadata": {
  "celltoolbar": "Slideshow",
  "kernelspec": {
   "display_name": "Python 2",
   "language": "python",
   "name": "python2"
  },
  "language_info": {
   "codemirror_mode": {
    "name": "ipython",
    "version": 2
   },
   "file_extension": ".py",
   "mimetype": "text/x-python",
   "name": "python",
   "nbconvert_exporter": "python",
   "pygments_lexer": "ipython2",
   "version": "2.7.10"
  }
 },
 "nbformat": 4,
 "nbformat_minor": 0
}
